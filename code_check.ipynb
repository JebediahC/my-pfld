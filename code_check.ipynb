{
 "cells": [
  {
   "cell_type": "code",
   "execution_count": 6,
   "metadata": {},
   "outputs": [],
   "source": [
    "import threading\n",
    "import time\n",
    "import datetime"
   ]
  },
  {
   "cell_type": "code",
   "execution_count": 27,
   "metadata": {},
   "outputs": [
    {
     "name": "stdout",
     "output_type": "stream",
     "text": [
      "14.375528812408447\n"
     ]
    }
   ],
   "source": [
    "start1=time.time()\n",
    "l=[1,2,3,4,5]\n",
    "for i in range(50000000):\n",
    "    l.reverse()\n",
    "end1=time.time()\n",
    "print(end1-start1)"
   ]
  },
  {
   "cell_type": "code",
   "execution_count": 28,
   "metadata": {},
   "outputs": [
    {
     "name": "stdout",
     "output_type": "stream",
     "text": [
      "56.124387979507446\n",
      "56.58916974067688\n",
      "56.58854389190674\n",
      "56.812787771224976\n"
     ]
    }
   ],
   "source": [
    "l1=[1,2,3,4,5]\n",
    "l2=[1,2,3,4,5]\n",
    "l3=[1,2,3,4,5]\n",
    "l4=[1,2,3,4,5]\n",
    "class mywork(threading.Thread):\n",
    "    def __init__(self,l):\n",
    "        threading.Thread.__init__(self)\n",
    "        self.l=l\n",
    "    def run(self):\n",
    "        start2=time.time()\n",
    "        for i in range(50000000):\n",
    "            self.l.reverse()\n",
    "        end2=time.time()\n",
    "        print(end2-start2)\n",
    "        \n",
    "mywork1=mywork(l1)\n",
    "mywork2=mywork(l2)\n",
    "mywork3=mywork(l3)\n",
    "mywork4=mywork(l4)\n",
    "mywork1.start()\n",
    "mywork2.start()\n",
    "mywork3.start()\n",
    "mywork4.start()\n",
    "mywork1.join()\n",
    "mywork2.join()\n",
    "mywork3.join()\n",
    "mywork4.join()"
   ]
  },
  {
   "cell_type": "markdown",
   "metadata": {},
   "source": [
    "a"
   ]
  },
  {
   "cell_type": "code",
   "execution_count": 33,
   "metadata": {},
   "outputs": [
    {
     "data": {
      "text/plain": [
       "'Fri Mar 25 14:32:44 2022'"
      ]
     },
     "execution_count": 33,
     "metadata": {},
     "output_type": "execute_result"
    }
   ],
   "source": [
    "dt=datetime.datetime.now()\n",
    "dt.ctime()"
   ]
  },
  {
   "cell_type": "code",
   "execution_count": 28,
   "metadata": {},
   "outputs": [
    {
     "data": {
      "text/plain": [
       "2022"
      ]
     },
     "execution_count": 28,
     "metadata": {},
     "output_type": "execute_result"
    }
   ],
   "source": [
    "str(dt.year)+str(dt.)"
   ]
  },
  {
   "cell_type": "code",
   "execution_count": 32,
   "metadata": {},
   "outputs": [
    {
     "data": {
      "text/plain": [
       "<function datetime.time>"
      ]
     },
     "execution_count": 32,
     "metadata": {},
     "output_type": "execute_result"
    }
   ],
   "source": [
    "dt.tzname"
   ]
  },
  {
   "cell_type": "code",
   "execution_count": null,
   "metadata": {},
   "outputs": [],
   "source": [
    "help(np.)"
   ]
  }
 ],
 "metadata": {
  "interpreter": {
   "hash": "ddf81131e08de48e6f4fc2676c4c56e33eb75626567de4856de8b67e09518051"
  },
  "kernelspec": {
   "display_name": "Python 3.9.7 ('pytorch')",
   "language": "python",
   "name": "python3"
  },
  "language_info": {
   "codemirror_mode": {
    "name": "ipython",
    "version": 3
   },
   "file_extension": ".py",
   "mimetype": "text/x-python",
   "name": "python",
   "nbconvert_exporter": "python",
   "pygments_lexer": "ipython3",
   "version": "3.9.7"
  },
  "orig_nbformat": 4
 },
 "nbformat": 4,
 "nbformat_minor": 2
}
